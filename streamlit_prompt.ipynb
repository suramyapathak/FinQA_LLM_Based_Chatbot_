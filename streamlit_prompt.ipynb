{
 "cells": [
  {
   "cell_type": "code",
   "execution_count": 1,
   "id": "0ed130cf-4696-4878-9ddf-5076b6608436",
   "metadata": {},
   "outputs": [],
   "source": [
    "import openai\n",
    "import streamlit as st\n",
    "import toml"
   ]
  },
  {
   "cell_type": "code",
   "execution_count": 2,
   "id": "cf88adf2-4b0c-4e84-a35d-1c7e96a2aac0",
   "metadata": {},
   "outputs": [],
   "source": [
    "secrets = toml.load(\"secrets.toml\")"
   ]
  },
  {
   "cell_type": "code",
   "execution_count": 3,
   "id": "d8402bcb-7e28-4a98-993f-e554f39cb75e",
   "metadata": {},
   "outputs": [],
   "source": [
    "api_key=st.secrets[\"key\"]"
   ]
  },
  {
   "cell_type": "code",
   "execution_count": 4,
   "id": "d925534d-9145-4480-82b2-16949a84bd0a",
   "metadata": {},
   "outputs": [],
   "source": [
    "client = openai.OpenAI(\n",
    "    api_key=api_key,\n",
    ")\n",
    "def get_completion_from_messages(prompt, model='gpt-3.5-turbo'):\n",
    "    messages=[{'role':'user', 'content':str(prompt),}]\n",
    "    response=client.chat.completions.create(\n",
    "    model=model,\n",
    "    messages=messages,\n",
    "    temperature=0)\n",
    "    return response.choices[0].message.content"
   ]
  },
  {
   "cell_type": "code",
   "execution_count": null,
   "id": "cd4bd92f-6567-42af-b8d0-d6fb89420d17",
   "metadata": {},
   "outputs": [],
   "source": []
  },
  {
   "cell_type": "code",
   "execution_count": 5,
   "id": "b7c8883f-a459-4a62-9ca5-cfe2d5bf71f4",
   "metadata": {},
   "outputs": [],
   "source": [
    "def get_initial_message():\n",
    "    text = f\"\"\"\n",
    "five-year performance comparison 2013 the following graph provides an indicator of cumulative total\\\n",
    "shareholder returns for the corporation as compared to the peer group index ( described above ) , \\\n",
    "the dj trans , and the s&p 500 . the graph assumes that $ 100 was invested in the common stock of \\\n",
    "union pacific corporation and each index on december 31 , 2011 and that all dividends were \\\n",
    "reinvested . the information below is historical in nature and is not necessarily indicative of \\\n",
    "future performance . purchases of equity securities 2013 during 2016 , we repurchased 35686529 \\\n",
    "shares of our common stock at an average price of $ 88.36 . the following table presents common \\\n",
    "stock repurchases during each month for the fourth quarter of 2016 : period total number of shares \\\n",
    "purchased [a] average price paid per share total number of shares purchased as part of a publicly \\\n",
    "announced plan or program [b] maximum number of shares remaining under the plan or program [b] . \\\n",
    "period the oct . 1 through oct . 31 of total number of shares purchased [a] is 3501308 ; the oct . 1\\\n",
    " through oct . 31 of average price paid per share is $ 92.89 ; the oct . 1 through oct . 31 of total\\\n",
    " number of shares purchased as part of a publicly announcedplan or program [b] is 3452500 ; the oct\\\n",
    " . 1 through oct . 31 of maximum number of shares remaining under the plan or program [b] is \\\n",
    "23769426 ; period the nov . 1 through nov . 30 of total number of shares purchased [a] is 2901167 ;\\\n",
    " the nov . 1 through nov . 30 of average price paid per share is 95.68 ; the nov . 1 through nov . \\\n",
    "30 of total number of shares purchased as part of a publicly announcedplan or program [b] is 2876067\\\n",
    " ; the nov . 1 through nov . 30 of maximum number of shares remaining under the plan or program [b] \\\n",
    "is 20893359 ; period the dec . 1 through dec . 31 of total number of shares purchased [a] is 3296652\\\n",
    " ; the dec . 1 through dec . 31 of average price paid per share is 104.30 ; the dec . 1 through dec \\\n",
    ". 31 of total number of shares purchased as part of a publicly announcedplan or program [b] is \\\n",
    "3296100 ; the dec . 1 through dec . 31 of maximum number of shares remaining under the plan or \\\n",
    "program [b] is 17597259 ; period the total of total number of shares purchased [a] is 9699127 ; the \\\n",
    "total of average price paid per share is $ 97.60 ; the total of total number of shares purchased as\\\n",
    " part of a publicly announcedplan or program [b] is 9624667 ; the total of maximum number of shares\\\n",
    " remaining under the plan or program [b] is n\\a ; [a] total number of shares purchased during the \\\n",
    "quarter includes approximately 74460 shares delivered or attested to upc by employees to pay stock\\\n",
    " option exercise prices , satisfy excess tax withholding obligations for stock option exercises or\\\n",
    " vesting of retention units , and pay withholding obligations for vesting of retention shares . [b] \\\n",
    "effective january 1 , 2014 , our board of directors authorized the repurchase of up to 120 million \\\n",
    "shares of our common stock by december 31 , 2017 . these repurchases may be made on the open market \\\n",
    "or through other transactions . our management has sole discretion with respect to determining the \\\n",
    "timing and amount of these transactions . on november 17 , 2016 , our board of directors approved \\\n",
    "the early renewal of the share repurchase program , authorizing the repurchase of up to 120 million \\\n",
    "shares of our common stock by december 31 , 2020 . the new authorization was effective january 1 ,\\\n",
    " 2017 , and replaces the previous authorization , which expired on december 31 , 2016.\"\"\"\n",
    "\n",
    "    messages=[ {'role':'system', 'content':f\"\"\"\n",
    "you are a chatbot, ask user for the question. go through the given the information in '''{text}''' to answer the question: \"\"\"\n",
    "} ]\n",
    "    return messages"
   ]
  },
  {
   "cell_type": "code",
   "execution_count": 6,
   "id": "7c58e415-91d3-4ebf-903d-cf3c26902b7b",
   "metadata": {},
   "outputs": [],
   "source": [
    "def update_chat(messages, role, content):\n",
    "    messages.append({\"role\": role, \"content\": content})\n",
    "    return messages"
   ]
  },
  {
   "cell_type": "code",
   "execution_count": 7,
   "id": "d7d81eaa-43aa-4f4b-bc61-fe0eb1777b81",
   "metadata": {},
   "outputs": [
    {
     "name": "stderr",
     "output_type": "stream",
     "text": [
      "2024-02-16 01:44:35.395 \n",
      "  \u001b[33m\u001b[1mWarning:\u001b[0m to view this Streamlit app on a browser, run it with the following\n",
      "  command:\n",
      "\n",
      "    streamlit run C:\\ProgramData\\Anaconda3\\envs\\myenv\\Lib\\site-packages\\ipykernel_launcher.py [ARGUMENTS]\n",
      "2024-02-16 01:44:35.410 Session state does not function when running a script without `streamlit run`\n"
     ]
    },
    {
     "ename": "KeyError",
     "evalue": "'st.session_state has no key \"messages\". Did you forget to initialize it? More info: https://docs.streamlit.io/library/advanced-features/session-state#initialization'",
     "output_type": "error",
     "traceback": [
      "\u001b[1;31m---------------------------------------------------------------------------\u001b[0m",
      "\u001b[1;31mKeyError\u001b[0m                                  Traceback (most recent call last)",
      "File \u001b[1;32mC:\\ProgramData\\Anaconda3\\envs\\myenv\\Lib\\site-packages\\streamlit\\runtime\\state\\session_state.py:398\u001b[0m, in \u001b[0;36mSessionState.__getitem__\u001b[1;34m(self, key)\u001b[0m\n\u001b[0;32m    397\u001b[0m \u001b[38;5;28;01mtry\u001b[39;00m:\n\u001b[1;32m--> 398\u001b[0m     \u001b[38;5;28;01mreturn\u001b[39;00m \u001b[38;5;28mself\u001b[39m\u001b[38;5;241m.\u001b[39m_getitem(widget_id, key)\n\u001b[0;32m    399\u001b[0m \u001b[38;5;28;01mexcept\u001b[39;00m \u001b[38;5;167;01mKeyError\u001b[39;00m:\n",
      "File \u001b[1;32mC:\\ProgramData\\Anaconda3\\envs\\myenv\\Lib\\site-packages\\streamlit\\runtime\\state\\session_state.py:443\u001b[0m, in \u001b[0;36mSessionState._getitem\u001b[1;34m(self, widget_id, user_key)\u001b[0m\n\u001b[0;32m    442\u001b[0m \u001b[38;5;66;03m# We'll never get here\u001b[39;00m\n\u001b[1;32m--> 443\u001b[0m \u001b[38;5;28;01mraise\u001b[39;00m \u001b[38;5;167;01mKeyError\u001b[39;00m\n",
      "\u001b[1;31mKeyError\u001b[0m: ",
      "\nDuring handling of the above exception, another exception occurred:\n",
      "\u001b[1;31mKeyError\u001b[0m                                  Traceback (most recent call last)",
      "Cell \u001b[1;32mIn[7], line 16\u001b[0m\n\u001b[0;32m     14\u001b[0m \u001b[38;5;28;01mif\u001b[39;00m query:\n\u001b[0;32m     15\u001b[0m     \u001b[38;5;28;01mwith\u001b[39;00m st\u001b[38;5;241m.\u001b[39mspinner(\u001b[38;5;124m\"\u001b[39m\u001b[38;5;124mgenerating...\u001b[39m\u001b[38;5;124m\"\u001b[39m):\n\u001b[1;32m---> 16\u001b[0m         messages \u001b[38;5;241m=\u001b[39m st\u001b[38;5;241m.\u001b[39msession_state[\u001b[38;5;124m'\u001b[39m\u001b[38;5;124mmessages\u001b[39m\u001b[38;5;124m'\u001b[39m]\n\u001b[0;32m     17\u001b[0m         messages \u001b[38;5;241m=\u001b[39m update_chat(messages, \u001b[38;5;124m\"\u001b[39m\u001b[38;5;124muser\u001b[39m\u001b[38;5;124m\"\u001b[39m, query)\n\u001b[0;32m     18\u001b[0m         response \u001b[38;5;241m=\u001b[39m get_completion_from_messages(messages, model)\n",
      "File \u001b[1;32mC:\\ProgramData\\Anaconda3\\envs\\myenv\\Lib\\site-packages\\streamlit\\runtime\\state\\session_state_proxy.py:90\u001b[0m, in \u001b[0;36mSessionStateProxy.__getitem__\u001b[1;34m(self, key)\u001b[0m\n\u001b[0;32m     88\u001b[0m key \u001b[38;5;241m=\u001b[39m \u001b[38;5;28mstr\u001b[39m(key)\n\u001b[0;32m     89\u001b[0m require_valid_user_key(key)\n\u001b[1;32m---> 90\u001b[0m \u001b[38;5;28;01mreturn\u001b[39;00m get_session_state()[key]\n",
      "File \u001b[1;32mC:\\ProgramData\\Anaconda3\\envs\\myenv\\Lib\\site-packages\\streamlit\\runtime\\state\\safe_session_state.py:91\u001b[0m, in \u001b[0;36mSafeSessionState.__getitem__\u001b[1;34m(self, key)\u001b[0m\n\u001b[0;32m     89\u001b[0m \u001b[38;5;28mself\u001b[39m\u001b[38;5;241m.\u001b[39m_yield_callback()\n\u001b[0;32m     90\u001b[0m \u001b[38;5;28;01mwith\u001b[39;00m \u001b[38;5;28mself\u001b[39m\u001b[38;5;241m.\u001b[39m_lock:\n\u001b[1;32m---> 91\u001b[0m     \u001b[38;5;28;01mreturn\u001b[39;00m \u001b[38;5;28mself\u001b[39m\u001b[38;5;241m.\u001b[39m_state[key]\n",
      "File \u001b[1;32mC:\\ProgramData\\Anaconda3\\envs\\myenv\\Lib\\site-packages\\streamlit\\runtime\\state\\session_state.py:400\u001b[0m, in \u001b[0;36mSessionState.__getitem__\u001b[1;34m(self, key)\u001b[0m\n\u001b[0;32m    398\u001b[0m     \u001b[38;5;28;01mreturn\u001b[39;00m \u001b[38;5;28mself\u001b[39m\u001b[38;5;241m.\u001b[39m_getitem(widget_id, key)\n\u001b[0;32m    399\u001b[0m \u001b[38;5;28;01mexcept\u001b[39;00m \u001b[38;5;167;01mKeyError\u001b[39;00m:\n\u001b[1;32m--> 400\u001b[0m     \u001b[38;5;28;01mraise\u001b[39;00m \u001b[38;5;167;01mKeyError\u001b[39;00m(_missing_key_error_message(key))\n",
      "\u001b[1;31mKeyError\u001b[0m: 'st.session_state has no key \"messages\". Did you forget to initialize it? More info: https://docs.streamlit.io/library/advanced-features/session-state#initialization'"
     ]
    }
   ],
   "source": [
    "st.set_page_config(page_title=\"FinQA Chatbot using Prompt Engineering (GPT-3.5)\")\n",
    "st.title(\"FinQA Chatbot using Prompt Engineering (GPT-3.5)\")\n",
    "st.sidebar.markdown(\"Current Version: 0.0.1\")\n",
    "st.sidebar.markdown(\"Not optimised\")\n",
    "st.sidebar.markdown(\"May run out of OpenAI credits\")\n",
    "if 'generated' not in st.session_state:\n",
    "    st.session_state['generated'] = []\n",
    "    \n",
    "if 'past' not in st.session_state:\n",
    "    st.session_state['past'] = []\n",
    "query = st.text_input(\"Question: \", \"Say Hello \", key=\"input\")\n",
    "if 'messages' not in st.session_state:\n",
    "    st.session_state['messages'] = get_initial_message()\n",
    "if query:\n",
    "    with st.spinner(\"generating...\"):\n",
    "        messages = st.session_state['messages']\n",
    "        messages = update_chat(messages, \"user\", query)\n",
    "        response = get_completion_from_messages(messages, model)\n",
    "        messages = update_chat(messages, \"assistant\", response)\n",
    "        st.session_state.past.append(query)\n",
    "        st.session_state.generated.append(response)\n",
    "if st.session_state['generated']:\n",
    "    for i in range(len(st.session_state['generated'])-1, -1, -1):\n",
    "        message(st.session_state[\"generated\"][i], key=str(i))\n",
    "        message(st.session_state['past'][i], is_user=True, key=str(i) + '_user')"
   ]
  },
  {
   "cell_type": "code",
   "execution_count": null,
   "id": "ead3d843-b55f-4d3a-8556-97b392f0d468",
   "metadata": {},
   "outputs": [],
   "source": [
    "https://medium.com/prompt-engineering/how-to-create-a-powerful-chatbot-in-minutes-with-streamlit-and-openai-gpt-3-5-7954e8e05db0"
   ]
  }
 ],
 "metadata": {
  "kernelspec": {
   "display_name": "Python 3 (ipykernel)",
   "language": "python",
   "name": "python3"
  },
  "language_info": {
   "codemirror_mode": {
    "name": "ipython",
    "version": 3
   },
   "file_extension": ".py",
   "mimetype": "text/x-python",
   "name": "python",
   "nbconvert_exporter": "python",
   "pygments_lexer": "ipython3",
   "version": "3.11.7"
  }
 },
 "nbformat": 4,
 "nbformat_minor": 5
}

{
  "nbformat": 4,
  "nbformat_minor": 0,
  "metadata": {
    "colab": {
      "provenance": []
    },
    "kernelspec": {
      "name": "python3",
      "display_name": "Python 3"
    },
    "language_info": {
      "name": "python"
    }
  },
  "cells": [
    {
      "cell_type": "code",
      "execution_count": 1,
      "metadata": {
        "id": "so75yutdL3P3"
      },
      "outputs": [],
      "source": [
        "import json"
      ]
    },
    {
      "cell_type": "markdown",
      "source": [
        "Adding a helper function, that will help in preprocessing the table data"
      ],
      "metadata": {
        "id": "24INmZRDMrrC"
      }
    },
    {
      "cell_type": "code",
      "source": [
        "def table_row_to_text(header, row):\n",
        "    '''\n",
        "    use templates to convert table row to text\n",
        "    '''\n",
        "    res = \"\"\n",
        "\n",
        "    if header[0]:\n",
        "        res += (header[0] + \" \")\n",
        "\n",
        "    for head, cell in zip(header[1:], row[1:]):\n",
        "        res += (\"the \" + row[0] + \" of \" + head + \" is \" + cell + \" ; \")\n",
        "\n",
        "    res = remove_space(res)\n",
        "    return res.strip()\n",
        "def remove_space(text_in):\n",
        "    res = []\n",
        "\n",
        "    for tmp in text_in.split(\" \"):\n",
        "        if tmp != \"\":\n",
        "            res.append(tmp)\n",
        "\n",
        "    return \" \".join(res)\n"
      ],
      "metadata": {
        "id": "e_xRqjbjMHUj"
      },
      "execution_count": 3,
      "outputs": []
    },
    {
      "cell_type": "markdown",
      "source": [
        "Importing train file in JSON format"
      ],
      "metadata": {
        "id": "9cCnJRqxNLCh"
      }
    },
    {
      "cell_type": "code",
      "source": [
        "import json\n",
        "f=open('train.json')\n",
        "train=json.load(f)"
      ],
      "metadata": {
        "id": "s7bEtqboMMiV"
      },
      "execution_count": 6,
      "outputs": []
    },
    {
      "cell_type": "markdown",
      "source": [
        "Converting only one example"
      ],
      "metadata": {
        "id": "-xubsgg8NZoV"
      }
    },
    {
      "cell_type": "code",
      "source": [
        "for each_data in train:\n",
        "    pre_text = each_data[\"pre_text\"]  # pre_text is in text format\n",
        "    post_text = each_data[\"post_text\"] # pre_text is in text format\n",
        "    table = each_data[\"table\"] # pre_text is in text format\n",
        "\n",
        "    table_text = \"\"\n",
        "    for row in table[1:]:\n",
        "        this_row_text = table_row_to_text(table[0], row)\n",
        "        table_text += (this_row_text + \" \")\n",
        "    table_text = table_text.strip()\n",
        "\n",
        "    all_text = \" \".join(pre_text) + \" \" + table_text + \" \" + \" \".join(post_text)\n",
        "    all_text = all_text.replace(\"/[^a-zA-Z0-9 ]/g\", \"\")\n",
        "    all_text = all_text.replace(\" . \", \". \")\n",
        "    all_text = all_text.replace(\" ..\", \"\")\n",
        "    break   # to take only one example"
      ],
      "metadata": {
        "id": "weGacqliMR5t"
      },
      "execution_count": 8,
      "outputs": []
    },
    {
      "cell_type": "code",
      "source": [
        "all_text"
      ],
      "metadata": {
        "colab": {
          "base_uri": "https://localhost:8080/",
          "height": 446
        },
        "id": "u24r-ifNO7kc",
        "outputId": "d221acb7-5fff-49e0-848b-12cc3a5a7746"
      },
      "execution_count": 10,
      "outputs": [
        {
          "output_type": "execute_result",
          "data": {
            "text/plain": [
              "'interest rate to a variable interest rate based on the three-month libor plus 2.05% ( 2.05 % ) ( 2.34% ( 2.34 % ) as of october 31 , 2009 ). if libor changes by 100 basis points , our annual interest expense would change by $ 3.8 million. foreign currency exposure as more fully described in note 2i. in the notes to consolidated financial statements contained in item 8 of this annual report on form 10-k , we regularly hedge our non-u.s. dollar-based exposures by entering into forward foreign currency exchange contracts. the terms of these contracts are for periods matching the duration of the underlying exposure and generally range from one month to twelve months. currently , our largest foreign currency exposure is the euro , primarily because our european operations have the highest proportion of our local currency denominated expenses. relative to foreign currency exposures existing at october 31 , 2009 and november 1 , 2008 , a 10% ( 10 % ) unfavorable movement in foreign currency exchange rates over the course of the year would not expose us to significant losses in earnings or cash flows because we hedge a high proportion of our year-end exposures against fluctuations in foreign currency exchange rates. the market risk associated with our derivative instruments results from currency exchange rate or interest rate movements that are expected to offset the market risk of the underlying transactions , assets and liabilities being hedged. the counterparties to the agreements relating to our foreign exchange instruments consist of a number of major international financial institutions with high credit ratings. we do not believe that there is significant risk of nonperformance by these counterparties because we continually monitor the credit ratings of such counterparties. while the contract or notional amounts of derivative financial instruments provide one measure of the volume of these transactions , they do not represent the amount of our exposure to credit risk. the amounts potentially subject to credit risk ( arising from the possible inability of counterparties to meet the terms of their contracts ) are generally limited to the amounts , if any , by which the counterparties 2019 obligations under the contracts exceed our obligations to the counterparties. the following table illustrates the effect that a 10% ( 10 % ) unfavorable or favorable movement in foreign currency exchange rates , relative to the u.s. dollar , would have on the fair value of our forward exchange contracts as of october 31 , 2009 and november 1 , 2008:. the fair value of forward exchange contracts asset ( liability ) of october 31 2009 is $ 6427 ; the fair value of forward exchange contracts asset ( liability ) of november 1 2008 is $ -23158 ( 23158 ) ; the fair value of forward exchange contracts after a 10% ( 10 % ) unfavorable movement in foreign currency exchange rates asset ( liability ) of october 31 2009 is $ 20132 ; the fair value of forward exchange contracts after a 10% ( 10 % ) unfavorable movement in foreign currency exchange rates asset ( liability ) of november 1 2008 is $ -9457 ( 9457 ) ; the fair value of forward exchange contracts after a 10% ( 10 % ) favorable movement in foreign currency exchange rates liability of october 31 2009 is $ -6781 ( 6781 ) ; the fair value of forward exchange contracts after a 10% ( 10 % ) favorable movement in foreign currency exchange rates liability of november 1 2008 is $ -38294 ( 38294 ) ; fair value of forward exchange contracts after a 10% ( 10 % ) unfavorable movement in foreign currency exchange rates asset ( liability ). $ 20132 $ ( 9457 ) fair value of forward exchange contracts after a 10% ( 10 % ) favorable movement in foreign currency exchange rates liability. . $ ( 6781 ) $ ( 38294 ) the calculation assumes that each exchange rate would change in the same direction relative to the u.s. dollar. in addition to the direct effects of changes in exchange rates , such changes typically affect the volume of sales or the foreign currency sales price as competitors 2019 products become more or less attractive. our sensitivity analysis of the effects of changes in foreign currency exchange rates does not factor in a potential change in sales levels or local currency selling prices. .'"
            ],
            "application/vnd.google.colaboratory.intrinsic+json": {
              "type": "string"
            }
          },
          "metadata": {},
          "execution_count": 10
        }
      ]
    },
    {
      "cell_type": "code",
      "source": [
        "# downloading the preprocessed file\n",
        "out_file = open(\"myfile2.json\", \"a\")\n",
        "\n",
        "json.dump(all_text, out_file)\n",
        "\n",
        "out_file.close()"
      ],
      "metadata": {
        "id": "GjHHM_Z8MX33"
      },
      "execution_count": 9,
      "outputs": []
    }
  ]
}